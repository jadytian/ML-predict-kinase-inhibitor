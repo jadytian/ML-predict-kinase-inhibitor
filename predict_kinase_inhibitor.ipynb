{
  "nbformat": 4,
  "nbformat_minor": 0,
  "metadata": {
    "colab": {
      "name": "predict-kinase-inhibitor.ipynb",
      "provenance": [],
      "collapsed_sections": [],
      "include_colab_link": true
    },
    "kernelspec": {
      "display_name": "Python 3",
      "language": "python",
      "name": "python3"
    },
    "language_info": {
      "codemirror_mode": {
        "name": "ipython",
        "version": 3
      },
      "file_extension": ".py",
      "mimetype": "text/x-python",
      "name": "python",
      "nbconvert_exporter": "python",
      "pygments_lexer": "ipython3",
      "version": "3.8.1"
    }
  },
  "cells": [
    {
      "cell_type": "markdown",
      "metadata": {
        "id": "view-in-github",
        "colab_type": "text"
      },
      "source": [
        "<a href=\"https://colab.research.google.com/github/jadytian/ML-predict-kinase-inhibitor/blob/main/predict_kinase_inhibitor.ipynb\" target=\"_parent\"><img src=\"https://colab.research.google.com/assets/colab-badge.svg\" alt=\"Open In Colab\"/></a>"
      ]
    },
    {
      "cell_type": "markdown",
      "metadata": {
        "id": "iKbQ6VzKuV4W"
      },
      "source": [
        "# Predicting Whether a Drug is a Kinase Inhibitor Using Small-Molecule Structure Information\n",
        "Jady Tian"
      ]
    },
    {
      "cell_type": "markdown",
      "metadata": {
        "id": "bB8q6Jp7yKOt"
      },
      "source": [
        "# Part 1: Preparing and Generating Descriptor Data"
      ]
    },
    {
      "cell_type": "code",
      "metadata": {
        "colab": {
          "base_uri": "https://localhost:8080/"
        },
        "id": "hzO7P88QunFW",
        "outputId": "166b27c3-8095-46c8-ae0c-abcff112536b"
      },
      "source": [
        "from google.colab import drive\n",
        "drive.mount(\"/content/gdrive\", force_remount=True)"
      ],
      "execution_count": 1,
      "outputs": [
        {
          "output_type": "stream",
          "text": [
            "Mounted at /content/gdrive\n"
          ],
          "name": "stdout"
        }
      ]
    },
    {
      "cell_type": "code",
      "metadata": {
        "colab": {
          "base_uri": "https://localhost:8080/"
        },
        "id": "cFZpzxSK6Jx-",
        "outputId": "9cbfdc4a-c95a-480b-b5c9-7e856b038e13"
      },
      "source": [
        "# Install RDKit. Takes 2-3 minutes\n",
        "!wget -c https://repo.continuum.io/miniconda/Miniconda3-py37_4.8.3-Linux-x86_64.sh\n",
        "!chmod +x Miniconda3-py37_4.8.3-Linux-x86_64.sh\n",
        "!time bash ./Miniconda3-py37_4.8.3-Linux-x86_64.sh -b -f -p /usr/local"
      ],
      "execution_count": 2,
      "outputs": [
        {
          "output_type": "stream",
          "text": [
            "--2020-12-13 07:31:46--  https://repo.continuum.io/miniconda/Miniconda3-py37_4.8.3-Linux-x86_64.sh\n",
            "Resolving repo.continuum.io (repo.continuum.io)... 104.18.200.79, 104.18.201.79, 2606:4700::6812:c84f, ...\n",
            "Connecting to repo.continuum.io (repo.continuum.io)|104.18.200.79|:443... connected.\n",
            "HTTP request sent, awaiting response... 301 Moved Permanently\n",
            "Location: https://repo.anaconda.com/miniconda/Miniconda3-py37_4.8.3-Linux-x86_64.sh [following]\n",
            "--2020-12-13 07:31:46--  https://repo.anaconda.com/miniconda/Miniconda3-py37_4.8.3-Linux-x86_64.sh\n",
            "Resolving repo.anaconda.com (repo.anaconda.com)... 104.16.131.3, 104.16.130.3, 2606:4700::6810:8303, ...\n",
            "Connecting to repo.anaconda.com (repo.anaconda.com)|104.16.131.3|:443... connected.\n",
            "HTTP request sent, awaiting response... 200 OK\n",
            "Length: 88867207 (85M) [application/x-sh]\n",
            "Saving to: ‘Miniconda3-py37_4.8.3-Linux-x86_64.sh’\n",
            "\n",
            "Miniconda3-py37_4.8 100%[===================>]  84.75M   155MB/s    in 0.5s    \n",
            "\n",
            "2020-12-13 07:31:47 (155 MB/s) - ‘Miniconda3-py37_4.8.3-Linux-x86_64.sh’ saved [88867207/88867207]\n",
            "\n",
            "PREFIX=/usr/local\n",
            "Unpacking payload ...\n",
            "Collecting package metadata (current_repodata.json): - \b\b\\ \b\b| \b\bdone\n",
            "Solving environment: - \b\b\\ \b\bdone\n",
            "\n",
            "## Package Plan ##\n",
            "\n",
            "  environment location: /usr/local\n",
            "\n",
            "  added / updated specs:\n",
            "    - _libgcc_mutex==0.1=main\n",
            "    - ca-certificates==2020.1.1=0\n",
            "    - certifi==2020.4.5.1=py37_0\n",
            "    - cffi==1.14.0=py37he30daa8_1\n",
            "    - chardet==3.0.4=py37_1003\n",
            "    - conda-package-handling==1.6.1=py37h7b6447c_0\n",
            "    - conda==4.8.3=py37_0\n",
            "    - cryptography==2.9.2=py37h1ba5d50_0\n",
            "    - idna==2.9=py_1\n",
            "    - ld_impl_linux-64==2.33.1=h53a641e_7\n",
            "    - libedit==3.1.20181209=hc058e9b_0\n",
            "    - libffi==3.3=he6710b0_1\n",
            "    - libgcc-ng==9.1.0=hdf63c60_0\n",
            "    - libstdcxx-ng==9.1.0=hdf63c60_0\n",
            "    - ncurses==6.2=he6710b0_1\n",
            "    - openssl==1.1.1g=h7b6447c_0\n",
            "    - pip==20.0.2=py37_3\n",
            "    - pycosat==0.6.3=py37h7b6447c_0\n",
            "    - pycparser==2.20=py_0\n",
            "    - pyopenssl==19.1.0=py37_0\n",
            "    - pysocks==1.7.1=py37_0\n",
            "    - python==3.7.7=hcff3b4d_5\n",
            "    - readline==8.0=h7b6447c_0\n",
            "    - requests==2.23.0=py37_0\n",
            "    - ruamel_yaml==0.15.87=py37h7b6447c_0\n",
            "    - setuptools==46.4.0=py37_0\n",
            "    - six==1.14.0=py37_0\n",
            "    - sqlite==3.31.1=h62c20be_1\n",
            "    - tk==8.6.8=hbc83047_0\n",
            "    - tqdm==4.46.0=py_0\n",
            "    - urllib3==1.25.8=py37_0\n",
            "    - wheel==0.34.2=py37_0\n",
            "    - xz==5.2.5=h7b6447c_0\n",
            "    - yaml==0.1.7=had09818_2\n",
            "    - zlib==1.2.11=h7b6447c_3\n",
            "\n",
            "\n",
            "The following NEW packages will be INSTALLED:\n",
            "\n",
            "  _libgcc_mutex      pkgs/main/linux-64::_libgcc_mutex-0.1-main\n",
            "  ca-certificates    pkgs/main/linux-64::ca-certificates-2020.1.1-0\n",
            "  certifi            pkgs/main/linux-64::certifi-2020.4.5.1-py37_0\n",
            "  cffi               pkgs/main/linux-64::cffi-1.14.0-py37he30daa8_1\n",
            "  chardet            pkgs/main/linux-64::chardet-3.0.4-py37_1003\n",
            "  conda              pkgs/main/linux-64::conda-4.8.3-py37_0\n",
            "  conda-package-han~ pkgs/main/linux-64::conda-package-handling-1.6.1-py37h7b6447c_0\n",
            "  cryptography       pkgs/main/linux-64::cryptography-2.9.2-py37h1ba5d50_0\n",
            "  idna               pkgs/main/noarch::idna-2.9-py_1\n",
            "  ld_impl_linux-64   pkgs/main/linux-64::ld_impl_linux-64-2.33.1-h53a641e_7\n",
            "  libedit            pkgs/main/linux-64::libedit-3.1.20181209-hc058e9b_0\n",
            "  libffi             pkgs/main/linux-64::libffi-3.3-he6710b0_1\n",
            "  libgcc-ng          pkgs/main/linux-64::libgcc-ng-9.1.0-hdf63c60_0\n",
            "  libstdcxx-ng       pkgs/main/linux-64::libstdcxx-ng-9.1.0-hdf63c60_0\n",
            "  ncurses            pkgs/main/linux-64::ncurses-6.2-he6710b0_1\n",
            "  openssl            pkgs/main/linux-64::openssl-1.1.1g-h7b6447c_0\n",
            "  pip                pkgs/main/linux-64::pip-20.0.2-py37_3\n",
            "  pycosat            pkgs/main/linux-64::pycosat-0.6.3-py37h7b6447c_0\n",
            "  pycparser          pkgs/main/noarch::pycparser-2.20-py_0\n",
            "  pyopenssl          pkgs/main/linux-64::pyopenssl-19.1.0-py37_0\n",
            "  pysocks            pkgs/main/linux-64::pysocks-1.7.1-py37_0\n",
            "  python             pkgs/main/linux-64::python-3.7.7-hcff3b4d_5\n",
            "  readline           pkgs/main/linux-64::readline-8.0-h7b6447c_0\n",
            "  requests           pkgs/main/linux-64::requests-2.23.0-py37_0\n",
            "  ruamel_yaml        pkgs/main/linux-64::ruamel_yaml-0.15.87-py37h7b6447c_0\n",
            "  setuptools         pkgs/main/linux-64::setuptools-46.4.0-py37_0\n",
            "  six                pkgs/main/linux-64::six-1.14.0-py37_0\n",
            "  sqlite             pkgs/main/linux-64::sqlite-3.31.1-h62c20be_1\n",
            "  tk                 pkgs/main/linux-64::tk-8.6.8-hbc83047_0\n",
            "  tqdm               pkgs/main/noarch::tqdm-4.46.0-py_0\n",
            "  urllib3            pkgs/main/linux-64::urllib3-1.25.8-py37_0\n",
            "  wheel              pkgs/main/linux-64::wheel-0.34.2-py37_0\n",
            "  xz                 pkgs/main/linux-64::xz-5.2.5-h7b6447c_0\n",
            "  yaml               pkgs/main/linux-64::yaml-0.1.7-had09818_2\n",
            "  zlib               pkgs/main/linux-64::zlib-1.2.11-h7b6447c_3\n",
            "\n",
            "\n",
            "Preparing transaction: / \b\b- \b\b\\ \b\bdone\n",
            "Executing transaction: / \b\b- \b\b\\ \b\b| \b\b/ \b\b- \b\b\\ \b\b| \b\b/ \b\b- \b\b\\ \b\b| \b\b/ \b\b- \b\bdone\n",
            "installation finished.\n",
            "WARNING:\n",
            "    You currently have a PYTHONPATH environment variable set. This may cause\n",
            "    unexpected behavior when running the Python interpreter in Miniconda3.\n",
            "    For best results, please verify that your PYTHONPATH only points to\n",
            "    directories of packages that are compatible with the Python interpreter\n",
            "    in Miniconda3: /usr/local\n",
            "\n",
            "real\t0m25.036s\n",
            "user\t0m14.685s\n",
            "sys\t0m5.429s\n"
          ],
          "name": "stdout"
        }
      ]
    },
    {
      "cell_type": "code",
      "metadata": {
        "colab": {
          "base_uri": "https://localhost:8080/"
        },
        "id": "2YRY0Xcj7ipC",
        "outputId": "8284624f-a5db-4314-8890-31bec91b5f1c"
      },
      "source": [
        "!time conda install -q -y -c conda-forge rdkit"
      ],
      "execution_count": 3,
      "outputs": [
        {
          "output_type": "stream",
          "text": [
            "Collecting package metadata (current_repodata.json): ...working... done\n",
            "Solving environment: ...working... done\n",
            "\n",
            "## Package Plan ##\n",
            "\n",
            "  environment location: /usr/local\n",
            "\n",
            "  added / updated specs:\n",
            "    - rdkit\n",
            "\n",
            "\n",
            "The following packages will be downloaded:\n",
            "\n",
            "    package                    |            build\n",
            "    ---------------------------|-----------------\n",
            "    boost-1.74.0               |   py37he5a615d_2         335 KB  conda-forge\n",
            "    boost-cpp-1.74.0           |       h9359b55_0        16.4 MB  conda-forge\n",
            "    bzip2-1.0.8                |       h516909a_3         398 KB  conda-forge\n",
            "    ca-certificates-2020.12.5  |       ha878542_0         137 KB  conda-forge\n",
            "    cairo-1.16.0               |    h3fc0475_1005         1.5 MB  conda-forge\n",
            "    certifi-2020.12.5          |   py37h89c1867_0         143 KB  conda-forge\n",
            "    conda-4.9.2                |   py37h89c1867_0         3.0 MB  conda-forge\n",
            "    cycler-0.10.0              |             py_2           9 KB  conda-forge\n",
            "    fontconfig-2.13.1          |    h7e3eb15_1002         324 KB  conda-forge\n",
            "    freetype-2.10.4            |       h7ca028e_0         912 KB  conda-forge\n",
            "    glib-2.66.1                |       h92f7085_0         2.9 MB\n",
            "    icu-67.1                   |       he1b5a44_0        12.9 MB  conda-forge\n",
            "    jpeg-9d                    |       h36c2ea0_0         264 KB  conda-forge\n",
            "    kiwisolver-1.3.1           |   py37hc928c03_0          86 KB  conda-forge\n",
            "    lcms2-2.11                 |       hcbb858e_1         434 KB  conda-forge\n",
            "    libblas-3.9.0              |       3_openblas          11 KB  conda-forge\n",
            "    libcblas-3.9.0             |       3_openblas          11 KB  conda-forge\n",
            "    libgfortran-ng-7.5.0       |      hae1eefd_17          22 KB  conda-forge\n",
            "    libgfortran4-7.5.0         |      hae1eefd_17         1.3 MB  conda-forge\n",
            "    libiconv-1.16              |       h516909a_0         1.4 MB  conda-forge\n",
            "    liblapack-3.9.0            |       3_openblas          11 KB  conda-forge\n",
            "    libopenblas-0.3.12         |pthreads_hb3c22a3_1         8.2 MB  conda-forge\n",
            "    libpng-1.6.37              |       h21135ba_2         306 KB  conda-forge\n",
            "    libtiff-4.1.0              |       h4f3a223_6         618 KB  conda-forge\n",
            "    libuuid-2.32.1             |    h14c3975_1000          26 KB  conda-forge\n",
            "    libwebp-base-1.1.0         |       h36c2ea0_3         864 KB  conda-forge\n",
            "    libxcb-1.13                |    h14c3975_1002         396 KB  conda-forge\n",
            "    libxml2-2.9.10             |       h68273f3_2         1.3 MB  conda-forge\n",
            "    lz4-c-1.9.2                |       he1b5a44_3         203 KB  conda-forge\n",
            "    matplotlib-base-3.3.2      |   py37h817c723_0         5.1 MB\n",
            "    numpy-1.19.4               |   py37h7e9df27_1         5.2 MB  conda-forge\n",
            "    olefile-0.46               |     pyh9f0ad1d_1          32 KB  conda-forge\n",
            "    openssl-1.1.1i             |       h27cfd23_0         2.5 MB\n",
            "    pandas-1.0.1               |   py37hb3f55d8_0        11.1 MB  conda-forge\n",
            "    pcre-8.44                  |       he1b5a44_0         261 KB  conda-forge\n",
            "    pillow-8.0.1               |   py37he98fc37_0         619 KB\n",
            "    pixman-0.38.0              |    h516909a_1003         594 KB  conda-forge\n",
            "    pthread-stubs-0.4          |    h36c2ea0_1001           5 KB  conda-forge\n",
            "    pycairo-1.20.0             |   py37h01af8b0_1          77 KB  conda-forge\n",
            "    pyparsing-2.4.7            |     pyh9f0ad1d_0          60 KB  conda-forge\n",
            "    python-dateutil-2.8.1      |             py_0         220 KB  conda-forge\n",
            "    python_abi-3.7             |          1_cp37m           4 KB  conda-forge\n",
            "    pytz-2020.4                |     pyhd8ed1ab_0         229 KB  conda-forge\n",
            "    rdkit-2020.09.2            |   py37h713bca6_0        25.7 MB  conda-forge\n",
            "    reportlab-3.5.51           |   py37hd14fb90_0         2.2 MB\n",
            "    sqlalchemy-1.3.20          |   py37h8f50634_0         1.8 MB  conda-forge\n",
            "    tornado-6.1                |   py37h4abf009_0         645 KB  conda-forge\n",
            "    xorg-kbproto-1.0.7         |    h14c3975_1002          26 KB  conda-forge\n",
            "    xorg-libice-1.0.10         |       h516909a_0          57 KB  conda-forge\n",
            "    xorg-libsm-1.2.3           |    h84519dc_1000          25 KB  conda-forge\n",
            "    xorg-libx11-1.6.12         |       h516909a_0         917 KB  conda-forge\n",
            "    xorg-libxau-1.0.9          |       h14c3975_0          13 KB  conda-forge\n",
            "    xorg-libxdmcp-1.1.3        |       h516909a_0          18 KB  conda-forge\n",
            "    xorg-libxext-1.3.4         |       h516909a_0          51 KB  conda-forge\n",
            "    xorg-libxrender-0.9.10     |    h516909a_1002          31 KB  conda-forge\n",
            "    xorg-renderproto-0.11.1    |    h14c3975_1002           8 KB  conda-forge\n",
            "    xorg-xextproto-7.3.0       |    h14c3975_1002          27 KB  conda-forge\n",
            "    xorg-xproto-7.0.31         |    h14c3975_1007          72 KB  conda-forge\n",
            "    zstd-1.4.5                 |       h6597ccf_2         712 KB  conda-forge\n",
            "    ------------------------------------------------------------\n",
            "                                           Total:       112.4 MB\n",
            "\n",
            "The following NEW packages will be INSTALLED:\n",
            "\n",
            "  boost              conda-forge/linux-64::boost-1.74.0-py37he5a615d_2\n",
            "  boost-cpp          conda-forge/linux-64::boost-cpp-1.74.0-h9359b55_0\n",
            "  bzip2              conda-forge/linux-64::bzip2-1.0.8-h516909a_3\n",
            "  cairo              conda-forge/linux-64::cairo-1.16.0-h3fc0475_1005\n",
            "  cycler             conda-forge/noarch::cycler-0.10.0-py_2\n",
            "  fontconfig         conda-forge/linux-64::fontconfig-2.13.1-h7e3eb15_1002\n",
            "  freetype           conda-forge/linux-64::freetype-2.10.4-h7ca028e_0\n",
            "  glib               pkgs/main/linux-64::glib-2.66.1-h92f7085_0\n",
            "  icu                conda-forge/linux-64::icu-67.1-he1b5a44_0\n",
            "  jpeg               conda-forge/linux-64::jpeg-9d-h36c2ea0_0\n",
            "  kiwisolver         conda-forge/linux-64::kiwisolver-1.3.1-py37hc928c03_0\n",
            "  lcms2              conda-forge/linux-64::lcms2-2.11-hcbb858e_1\n",
            "  libblas            conda-forge/linux-64::libblas-3.9.0-3_openblas\n",
            "  libcblas           conda-forge/linux-64::libcblas-3.9.0-3_openblas\n",
            "  libgfortran-ng     conda-forge/linux-64::libgfortran-ng-7.5.0-hae1eefd_17\n",
            "  libgfortran4       conda-forge/linux-64::libgfortran4-7.5.0-hae1eefd_17\n",
            "  libiconv           conda-forge/linux-64::libiconv-1.16-h516909a_0\n",
            "  liblapack          conda-forge/linux-64::liblapack-3.9.0-3_openblas\n",
            "  libopenblas        conda-forge/linux-64::libopenblas-0.3.12-pthreads_hb3c22a3_1\n",
            "  libpng             conda-forge/linux-64::libpng-1.6.37-h21135ba_2\n",
            "  libtiff            conda-forge/linux-64::libtiff-4.1.0-h4f3a223_6\n",
            "  libuuid            conda-forge/linux-64::libuuid-2.32.1-h14c3975_1000\n",
            "  libwebp-base       conda-forge/linux-64::libwebp-base-1.1.0-h36c2ea0_3\n",
            "  libxcb             conda-forge/linux-64::libxcb-1.13-h14c3975_1002\n",
            "  libxml2            conda-forge/linux-64::libxml2-2.9.10-h68273f3_2\n",
            "  lz4-c              conda-forge/linux-64::lz4-c-1.9.2-he1b5a44_3\n",
            "  matplotlib-base    pkgs/main/linux-64::matplotlib-base-3.3.2-py37h817c723_0\n",
            "  numpy              conda-forge/linux-64::numpy-1.19.4-py37h7e9df27_1\n",
            "  olefile            conda-forge/noarch::olefile-0.46-pyh9f0ad1d_1\n",
            "  pandas             conda-forge/linux-64::pandas-1.0.1-py37hb3f55d8_0\n",
            "  pcre               conda-forge/linux-64::pcre-8.44-he1b5a44_0\n",
            "  pillow             pkgs/main/linux-64::pillow-8.0.1-py37he98fc37_0\n",
            "  pixman             conda-forge/linux-64::pixman-0.38.0-h516909a_1003\n",
            "  pthread-stubs      conda-forge/linux-64::pthread-stubs-0.4-h36c2ea0_1001\n",
            "  pycairo            conda-forge/linux-64::pycairo-1.20.0-py37h01af8b0_1\n",
            "  pyparsing          conda-forge/noarch::pyparsing-2.4.7-pyh9f0ad1d_0\n",
            "  python-dateutil    conda-forge/noarch::python-dateutil-2.8.1-py_0\n",
            "  python_abi         conda-forge/linux-64::python_abi-3.7-1_cp37m\n",
            "  pytz               conda-forge/noarch::pytz-2020.4-pyhd8ed1ab_0\n",
            "  rdkit              conda-forge/linux-64::rdkit-2020.09.2-py37h713bca6_0\n",
            "  reportlab          pkgs/main/linux-64::reportlab-3.5.51-py37hd14fb90_0\n",
            "  sqlalchemy         conda-forge/linux-64::sqlalchemy-1.3.20-py37h8f50634_0\n",
            "  tornado            conda-forge/linux-64::tornado-6.1-py37h4abf009_0\n",
            "  xorg-kbproto       conda-forge/linux-64::xorg-kbproto-1.0.7-h14c3975_1002\n",
            "  xorg-libice        conda-forge/linux-64::xorg-libice-1.0.10-h516909a_0\n",
            "  xorg-libsm         conda-forge/linux-64::xorg-libsm-1.2.3-h84519dc_1000\n",
            "  xorg-libx11        conda-forge/linux-64::xorg-libx11-1.6.12-h516909a_0\n",
            "  xorg-libxau        conda-forge/linux-64::xorg-libxau-1.0.9-h14c3975_0\n",
            "  xorg-libxdmcp      conda-forge/linux-64::xorg-libxdmcp-1.1.3-h516909a_0\n",
            "  xorg-libxext       conda-forge/linux-64::xorg-libxext-1.3.4-h516909a_0\n",
            "  xorg-libxrender    conda-forge/linux-64::xorg-libxrender-0.9.10-h516909a_1002\n",
            "  xorg-renderproto   conda-forge/linux-64::xorg-renderproto-0.11.1-h14c3975_1002\n",
            "  xorg-xextproto     conda-forge/linux-64::xorg-xextproto-7.3.0-h14c3975_1002\n",
            "  xorg-xproto        conda-forge/linux-64::xorg-xproto-7.0.31-h14c3975_1007\n",
            "  zstd               conda-forge/linux-64::zstd-1.4.5-h6597ccf_2\n",
            "\n",
            "The following packages will be UPDATED:\n",
            "\n",
            "  ca-certificates     pkgs/main::ca-certificates-2020.1.1-0 --> conda-forge::ca-certificates-2020.12.5-ha878542_0\n",
            "  certifi              pkgs/main::certifi-2020.4.5.1-py37_0 --> conda-forge::certifi-2020.12.5-py37h89c1867_0\n",
            "  conda                       pkgs/main::conda-4.8.3-py37_0 --> conda-forge::conda-4.9.2-py37h89c1867_0\n",
            "  openssl                                 1.1.1g-h7b6447c_0 --> 1.1.1i-h27cfd23_0\n",
            "\n",
            "\n",
            "Preparing transaction: ...working... done\n",
            "Verifying transaction: ...working... done\n",
            "Executing transaction: ...working... done\n",
            "\n",
            "real\t0m53.783s\n",
            "user\t0m44.691s\n",
            "sys\t0m6.261s\n"
          ],
          "name": "stdout"
        }
      ]
    },
    {
      "cell_type": "code",
      "metadata": {
        "colab": {
          "base_uri": "https://localhost:8080/"
        },
        "id": "02ZCXyRU7e_y",
        "outputId": "a3fff3b0-b22a-4311-8f9a-02c28624e8e8"
      },
      "source": [
        "!time conda install -q -y -c conda-forge py3dmol"
      ],
      "execution_count": 4,
      "outputs": [
        {
          "output_type": "stream",
          "text": [
            "Collecting package metadata (current_repodata.json): ...working... done\n",
            "Solving environment: ...working... failed with initial frozen solve. Retrying with flexible solve.\n",
            "Solving environment: ...working... failed with repodata from current_repodata.json, will retry with next repodata source.\n",
            "Collecting package metadata (repodata.json): ...working... done\n",
            "Solving environment: ...working... done\n",
            "\n",
            "## Package Plan ##\n",
            "\n",
            "  environment location: /usr/local\n",
            "\n",
            "  added / updated specs:\n",
            "    - py3dmol\n",
            "\n",
            "\n",
            "The following packages will be downloaded:\n",
            "\n",
            "    package                    |            build\n",
            "    ---------------------------|-----------------\n",
            "    argon2-cffi-20.1.0         |   py37h4abf009_2          47 KB  conda-forge\n",
            "    async_generator-1.10       |             py_0          18 KB  conda-forge\n",
            "    attrs-20.3.0               |     pyhd3deb0d_0          41 KB  conda-forge\n",
            "    backcall-0.2.0             |     pyh9f0ad1d_0          13 KB  conda-forge\n",
            "    backports-1.0              |             py_2           4 KB  conda-forge\n",
            "    backports.functools_lru_cache-1.6.1|             py_0           8 KB  conda-forge\n",
            "    bleach-3.2.1               |     pyh9f0ad1d_0         111 KB  conda-forge\n",
            "    boost-1.70.0               |   py37h9de70de_1         337 KB  conda-forge\n",
            "    boost-cpp-1.70.0           |       ha2d47e9_1        21.1 MB  conda-forge\n",
            "    cairo-1.16.0               |    h18b612c_1001         1.5 MB  conda-forge\n",
            "    dbus-1.13.6                |       he372182_0         602 KB  conda-forge\n",
            "    decorator-4.4.2            |             py_0          11 KB  conda-forge\n",
            "    defusedxml-0.6.0           |             py_0          22 KB  conda-forge\n",
            "    entrypoints-0.3            |  pyhd8ed1ab_1003           8 KB  conda-forge\n",
            "    expat-2.2.9                |       he1b5a44_2         191 KB  conda-forge\n",
            "    fontconfig-2.13.1          |    he4413a7_1000         327 KB  conda-forge\n",
            "    gst-plugins-base-1.14.0    |       hbbd80ab_1         4.8 MB\n",
            "    gstreamer-1.14.0           |       hb31296c_0         3.1 MB\n",
            "    icu-58.2                   |    hf484d3e_1000        22.6 MB  conda-forge\n",
            "    importlib-metadata-3.1.1   |     pyhd8ed1ab_0          12 KB  conda-forge\n",
            "    importlib_metadata-3.1.1   |       hd8ed1ab_0           3 KB  conda-forge\n",
            "    ipykernel-5.4.2            |   py37h888b3d9_0         165 KB  conda-forge\n",
            "    ipython-7.19.0             |   py37h888b3d9_0         1.1 MB  conda-forge\n",
            "    ipython_genutils-0.2.0     |             py_1          21 KB  conda-forge\n",
            "    ipywidgets-7.5.1           |     pyh9f0ad1d_1         101 KB  conda-forge\n",
            "    jedi-0.17.2                |   py37h89c1867_1         948 KB  conda-forge\n",
            "    jinja2-2.11.2              |     pyh9f0ad1d_0          93 KB  conda-forge\n",
            "    jsonschema-3.2.0           |             py_2          45 KB  conda-forge\n",
            "    jupyter-1.0.0              |             py_2           4 KB  conda-forge\n",
            "    jupyter_client-6.1.7       |             py_0          76 KB  conda-forge\n",
            "    jupyter_console-6.2.0      |             py_0          22 KB  conda-forge\n",
            "    jupyter_core-4.7.0         |   py37h89c1867_0          72 KB  conda-forge\n",
            "    jupyterlab_pygments-0.1.2  |     pyh9f0ad1d_0           8 KB  conda-forge\n",
            "    libsodium-1.0.18           |       h36c2ea0_1         366 KB  conda-forge\n",
            "    libxml2-2.9.9              |       h13577e0_2         1.3 MB  conda-forge\n",
            "    markupsafe-1.1.1           |   py37hb5d75c8_2          27 KB  conda-forge\n",
            "    mistune-0.8.4              |py37h4abf009_1002          54 KB  conda-forge\n",
            "    nbclient-0.5.1             |             py_0          60 KB  conda-forge\n",
            "    nbconvert-6.0.7            |   py37h89c1867_3         535 KB  conda-forge\n",
            "    nbformat-5.0.8             |             py_0         100 KB  conda-forge\n",
            "    nest-asyncio-1.4.3         |     pyhd8ed1ab_0           9 KB  conda-forge\n",
            "    notebook-6.1.5             |   py37h89c1867_0         6.3 MB  conda-forge\n",
            "    openssl-1.1.1h             |       h516909a_0         2.1 MB  conda-forge\n",
            "    packaging-20.8             |     pyhd3deb0d_0          34 KB  conda-forge\n",
            "    pandoc-2.11.2              |       h36c2ea0_0        17.7 MB  conda-forge\n",
            "    pandocfilters-1.4.2        |             py_1           9 KB  conda-forge\n",
            "    parso-0.7.1                |     pyh9f0ad1d_0          70 KB  conda-forge\n",
            "    pexpect-4.8.0              |     pyh9f0ad1d_2          47 KB  conda-forge\n",
            "    pickleshare-0.7.5          |          py_1003           9 KB  conda-forge\n",
            "    prometheus_client-0.9.0    |     pyhd3deb0d_0          44 KB  conda-forge\n",
            "    prompt-toolkit-3.0.8       |     pyha770c72_0         237 KB  conda-forge\n",
            "    prompt_toolkit-3.0.8       |       hd8ed1ab_0           4 KB  conda-forge\n",
            "    ptyprocess-0.6.0           |          py_1001          15 KB  conda-forge\n",
            "    py3dmol-0.8.0              |             py_0           8 KB  conda-forge\n",
            "    pygments-2.7.3             |     pyhd8ed1ab_0         708 KB  conda-forge\n",
            "    pyqt-5.9.2                 |   py37hcca6a23_4         5.7 MB  conda-forge\n",
            "    pyrsistent-0.17.3          |   py37h4abf009_1          89 KB  conda-forge\n",
            "    pyzmq-20.0.0               |   py37h5a562af_1         507 KB  conda-forge\n",
            "    qt-5.9.7                   |       h5867ecd_1        68.5 MB\n",
            "    qtconsole-5.0.1            |     pyhd8ed1ab_0          88 KB  conda-forge\n",
            "    qtpy-1.9.0                 |             py_0          34 KB  conda-forge\n",
            "    rdkit-2019.09.3            |   py37hb31dc5d_0        23.7 MB  conda-forge\n",
            "    send2trash-1.5.0           |             py_0          12 KB  conda-forge\n",
            "    sip-4.19.8                 |py37hf484d3e_1000         290 KB  conda-forge\n",
            "    terminado-0.9.1            |   py37h89c1867_1          25 KB  conda-forge\n",
            "    testpath-0.4.4             |             py_0          85 KB  conda-forge\n",
            "    traitlets-5.0.5            |             py_0          81 KB  conda-forge\n",
            "    wcwidth-0.2.5              |     pyh9f0ad1d_2          33 KB  conda-forge\n",
            "    webencodings-0.5.1         |             py_1          12 KB  conda-forge\n",
            "    widgetsnbextension-3.5.1   |   py37h89c1867_4         1.8 MB  conda-forge\n",
            "    zeromq-4.3.3               |       h58526e2_3         288 KB  conda-forge\n",
            "    zipp-3.4.0                 |             py_0          11 KB  conda-forge\n",
            "    ------------------------------------------------------------\n",
            "                                           Total:       188.4 MB\n",
            "\n",
            "The following NEW packages will be INSTALLED:\n",
            "\n",
            "  argon2-cffi        conda-forge/linux-64::argon2-cffi-20.1.0-py37h4abf009_2\n",
            "  async_generator    conda-forge/noarch::async_generator-1.10-py_0\n",
            "  attrs              conda-forge/noarch::attrs-20.3.0-pyhd3deb0d_0\n",
            "  backcall           conda-forge/noarch::backcall-0.2.0-pyh9f0ad1d_0\n",
            "  backports          conda-forge/noarch::backports-1.0-py_2\n",
            "  backports.functoo~ conda-forge/noarch::backports.functools_lru_cache-1.6.1-py_0\n",
            "  bleach             conda-forge/noarch::bleach-3.2.1-pyh9f0ad1d_0\n",
            "  dbus               conda-forge/linux-64::dbus-1.13.6-he372182_0\n",
            "  decorator          conda-forge/noarch::decorator-4.4.2-py_0\n",
            "  defusedxml         conda-forge/noarch::defusedxml-0.6.0-py_0\n",
            "  entrypoints        conda-forge/noarch::entrypoints-0.3-pyhd8ed1ab_1003\n",
            "  expat              conda-forge/linux-64::expat-2.2.9-he1b5a44_2\n",
            "  gst-plugins-base   pkgs/main/linux-64::gst-plugins-base-1.14.0-hbbd80ab_1\n",
            "  gstreamer          pkgs/main/linux-64::gstreamer-1.14.0-hb31296c_0\n",
            "  importlib-metadata conda-forge/noarch::importlib-metadata-3.1.1-pyhd8ed1ab_0\n",
            "  importlib_metadata conda-forge/noarch::importlib_metadata-3.1.1-hd8ed1ab_0\n",
            "  ipykernel          conda-forge/linux-64::ipykernel-5.4.2-py37h888b3d9_0\n",
            "  ipython            conda-forge/linux-64::ipython-7.19.0-py37h888b3d9_0\n",
            "  ipython_genutils   conda-forge/noarch::ipython_genutils-0.2.0-py_1\n",
            "  ipywidgets         conda-forge/noarch::ipywidgets-7.5.1-pyh9f0ad1d_1\n",
            "  jedi               conda-forge/linux-64::jedi-0.17.2-py37h89c1867_1\n",
            "  jinja2             conda-forge/noarch::jinja2-2.11.2-pyh9f0ad1d_0\n",
            "  jsonschema         conda-forge/noarch::jsonschema-3.2.0-py_2\n",
            "  jupyter            conda-forge/noarch::jupyter-1.0.0-py_2\n",
            "  jupyter_client     conda-forge/noarch::jupyter_client-6.1.7-py_0\n",
            "  jupyter_console    conda-forge/noarch::jupyter_console-6.2.0-py_0\n",
            "  jupyter_core       conda-forge/linux-64::jupyter_core-4.7.0-py37h89c1867_0\n",
            "  jupyterlab_pygmen~ conda-forge/noarch::jupyterlab_pygments-0.1.2-pyh9f0ad1d_0\n",
            "  libsodium          conda-forge/linux-64::libsodium-1.0.18-h36c2ea0_1\n",
            "  markupsafe         conda-forge/linux-64::markupsafe-1.1.1-py37hb5d75c8_2\n",
            "  mistune            conda-forge/linux-64::mistune-0.8.4-py37h4abf009_1002\n",
            "  nbclient           conda-forge/noarch::nbclient-0.5.1-py_0\n",
            "  nbconvert          conda-forge/linux-64::nbconvert-6.0.7-py37h89c1867_3\n",
            "  nbformat           conda-forge/noarch::nbformat-5.0.8-py_0\n",
            "  nest-asyncio       conda-forge/noarch::nest-asyncio-1.4.3-pyhd8ed1ab_0\n",
            "  notebook           conda-forge/linux-64::notebook-6.1.5-py37h89c1867_0\n",
            "  packaging          conda-forge/noarch::packaging-20.8-pyhd3deb0d_0\n",
            "  pandoc             conda-forge/linux-64::pandoc-2.11.2-h36c2ea0_0\n",
            "  pandocfilters      conda-forge/noarch::pandocfilters-1.4.2-py_1\n",
            "  parso              conda-forge/noarch::parso-0.7.1-pyh9f0ad1d_0\n",
            "  pexpect            conda-forge/noarch::pexpect-4.8.0-pyh9f0ad1d_2\n",
            "  pickleshare        conda-forge/noarch::pickleshare-0.7.5-py_1003\n",
            "  prometheus_client  conda-forge/noarch::prometheus_client-0.9.0-pyhd3deb0d_0\n",
            "  prompt-toolkit     conda-forge/noarch::prompt-toolkit-3.0.8-pyha770c72_0\n",
            "  prompt_toolkit     conda-forge/noarch::prompt_toolkit-3.0.8-hd8ed1ab_0\n",
            "  ptyprocess         conda-forge/noarch::ptyprocess-0.6.0-py_1001\n",
            "  py3dmol            conda-forge/noarch::py3dmol-0.8.0-py_0\n",
            "  pygments           conda-forge/noarch::pygments-2.7.3-pyhd8ed1ab_0\n",
            "  pyqt               conda-forge/linux-64::pyqt-5.9.2-py37hcca6a23_4\n",
            "  pyrsistent         conda-forge/linux-64::pyrsistent-0.17.3-py37h4abf009_1\n",
            "  pyzmq              conda-forge/linux-64::pyzmq-20.0.0-py37h5a562af_1\n",
            "  qt                 pkgs/main/linux-64::qt-5.9.7-h5867ecd_1\n",
            "  qtconsole          conda-forge/noarch::qtconsole-5.0.1-pyhd8ed1ab_0\n",
            "  qtpy               conda-forge/noarch::qtpy-1.9.0-py_0\n",
            "  send2trash         conda-forge/noarch::send2trash-1.5.0-py_0\n",
            "  sip                conda-forge/linux-64::sip-4.19.8-py37hf484d3e_1000\n",
            "  terminado          conda-forge/linux-64::terminado-0.9.1-py37h89c1867_1\n",
            "  testpath           conda-forge/noarch::testpath-0.4.4-py_0\n",
            "  traitlets          conda-forge/noarch::traitlets-5.0.5-py_0\n",
            "  wcwidth            conda-forge/noarch::wcwidth-0.2.5-pyh9f0ad1d_2\n",
            "  webencodings       conda-forge/noarch::webencodings-0.5.1-py_1\n",
            "  widgetsnbextension conda-forge/linux-64::widgetsnbextension-3.5.1-py37h89c1867_4\n",
            "  zeromq             conda-forge/linux-64::zeromq-4.3.3-h58526e2_3\n",
            "  zipp               conda-forge/noarch::zipp-3.4.0-py_0\n",
            "\n",
            "The following packages will be SUPERSEDED by a higher-priority channel:\n",
            "\n",
            "  openssl              pkgs/main::openssl-1.1.1i-h27cfd23_0 --> conda-forge::openssl-1.1.1h-h516909a_0\n",
            "\n",
            "The following packages will be DOWNGRADED:\n",
            "\n",
            "  boost                               1.74.0-py37he5a615d_2 --> 1.70.0-py37h9de70de_1\n",
            "  boost-cpp                               1.74.0-h9359b55_0 --> 1.70.0-ha2d47e9_1\n",
            "  cairo                                1.16.0-h3fc0475_1005 --> 1.16.0-h18b612c_1001\n",
            "  fontconfig                           2.13.1-h7e3eb15_1002 --> 2.13.1-he4413a7_1000\n",
            "  icu                                       67.1-he1b5a44_0 --> 58.2-hf484d3e_1000\n",
            "  libxml2                                 2.9.10-h68273f3_2 --> 2.9.9-h13577e0_2\n",
            "  rdkit                            2020.09.2-py37h713bca6_0 --> 2019.09.3-py37hb31dc5d_0\n",
            "\n",
            "\n",
            "Preparing transaction: ...working... done\n",
            "Verifying transaction: ...working... done\n",
            "Executing transaction: ...working... Enabling notebook extension jupyter-js-widgets/extension...\n",
            "Paths used for configuration of notebook: \n",
            "    \t/usr/local/etc/jupyter/nbconfig/notebook.d/plotlywidget.json\n",
            "    \t/usr/local/etc/jupyter/nbconfig/notebook.d/widgetsnbextension.json\n",
            "    \t/usr/local/etc/jupyter/nbconfig/notebook.json\n",
            "Paths used for configuration of notebook: \n",
            "    \t/usr/local/etc/jupyter/nbconfig/notebook.d/plotlywidget.json\n",
            "    \t/usr/local/etc/jupyter/nbconfig/notebook.d/widgetsnbextension.json\n",
            "      - Validating: \u001b[32mOK\u001b[0m\n",
            "Paths used for configuration of notebook: \n",
            "    \t/usr/local/etc/jupyter/nbconfig/notebook.d/plotlywidget.json\n",
            "    \t/usr/local/etc/jupyter/nbconfig/notebook.d/widgetsnbextension.json\n",
            "    \t/usr/local/etc/jupyter/nbconfig/notebook.json\n",
            "\n",
            "done\n",
            "\n",
            "real\t3m40.775s\n",
            "user\t3m24.373s\n",
            "sys\t0m12.760s\n"
          ],
          "name": "stdout"
        }
      ]
    },
    {
      "cell_type": "code",
      "metadata": {
        "colab": {
          "base_uri": "https://localhost:8080/"
        },
        "id": "K-ChHx0Q747i",
        "outputId": "5d2dfd14-0180-4732-9cf1-d1134e775992"
      },
      "source": [
        "!time conda install -q -y -c mordred-descriptor mordred"
      ],
      "execution_count": 5,
      "outputs": [
        {
          "output_type": "stream",
          "text": [
            "Collecting package metadata (current_repodata.json): ...working... done\n",
            "Solving environment: ...working... done\n",
            "\n",
            "## Package Plan ##\n",
            "\n",
            "  environment location: /usr/local\n",
            "\n",
            "  added / updated specs:\n",
            "    - mordred\n",
            "\n",
            "\n",
            "The following packages will be downloaded:\n",
            "\n",
            "    package                    |            build\n",
            "    ---------------------------|-----------------\n",
            "    ca-certificates-2020.12.8  |       h06a4308_0         121 KB\n",
            "    certifi-2020.12.5          |   py37h06a4308_0         141 KB\n",
            "    mordred-1.2.0              |     pyhe5148d4_0         257 KB  mordred-descriptor\n",
            "    networkx-2.5               |             py_0         1.1 MB\n",
            "    ------------------------------------------------------------\n",
            "                                           Total:         1.6 MB\n",
            "\n",
            "The following NEW packages will be INSTALLED:\n",
            "\n",
            "  mordred            mordred-descriptor/noarch::mordred-1.2.0-pyhe5148d4_0\n",
            "  networkx           pkgs/main/noarch::networkx-2.5-py_0\n",
            "\n",
            "The following packages will be UPDATED:\n",
            "\n",
            "  ca-certificates    conda-forge::ca-certificates-2020.12.~ --> pkgs/main::ca-certificates-2020.12.8-h06a4308_0\n",
            "  openssl            conda-forge::openssl-1.1.1h-h516909a_0 --> pkgs/main::openssl-1.1.1i-h27cfd23_0\n",
            "\n",
            "The following packages will be SUPERSEDED by a higher-priority channel:\n",
            "\n",
            "  certifi            conda-forge::certifi-2020.12.5-py37h8~ --> pkgs/main::certifi-2020.12.5-py37h06a4308_0\n",
            "\n",
            "\n",
            "Preparing transaction: ...working... done\n",
            "Verifying transaction: ...working... done\n",
            "Executing transaction: ...working... done\n",
            "\n",
            "real\t0m10.634s\n",
            "user\t0m8.510s\n",
            "sys\t0m1.266s\n"
          ],
          "name": "stdout"
        }
      ]
    },
    {
      "cell_type": "code",
      "metadata": {
        "id": "ZOxhNz5C6Yr_"
      },
      "source": [
        "import sys\n",
        "sys.path.append('/usr/local/lib/python3.7/site-packages/')"
      ],
      "execution_count": 6,
      "outputs": []
    },
    {
      "cell_type": "code",
      "metadata": {
        "colab": {
          "base_uri": "https://localhost:8080/"
        },
        "id": "bFos4ZXEht3V",
        "outputId": "6b97c554-c287-4d07-aab6-bf78b447f9fb"
      },
      "source": [
        "!pwd"
      ],
      "execution_count": 7,
      "outputs": [
        {
          "output_type": "stream",
          "text": [
            "/content\n"
          ],
          "name": "stdout"
        }
      ]
    },
    {
      "cell_type": "code",
      "metadata": {
        "colab": {
          "base_uri": "https://localhost:8080/"
        },
        "id": "06lEw3c_-cAg",
        "outputId": "1ff7ee45-7e3d-4cad-d256-3aa8b0bf3d39"
      },
      "source": [
        "%cd gdrive/My Drive"
      ],
      "execution_count": 8,
      "outputs": [
        {
          "output_type": "stream",
          "text": [
            "/content/gdrive/My Drive\n"
          ],
          "name": "stdout"
        }
      ]
    },
    {
      "cell_type": "code",
      "metadata": {
        "id": "Lylef-jRFjdm"
      },
      "source": [
        "!mkdir -p Projects"
      ],
      "execution_count": 9,
      "outputs": []
    },
    {
      "cell_type": "code",
      "metadata": {
        "colab": {
          "base_uri": "https://localhost:8080/"
        },
        "id": "4XQOJiwLC7mR",
        "outputId": "fb4328cf-87ee-49b8-b004-d53e673cc93e"
      },
      "source": [
        "%cd Projects"
      ],
      "execution_count": 10,
      "outputs": [
        {
          "output_type": "stream",
          "text": [
            "/content/gdrive/My Drive/Projects\n"
          ],
          "name": "stdout"
        }
      ]
    },
    {
      "cell_type": "code",
      "metadata": {
        "id": "WvEwi3GjIvlg"
      },
      "source": [
        "# Run this the first time"
      ],
      "execution_count": 11,
      "outputs": []
    },
    {
      "cell_type": "code",
      "metadata": {
        "id": "bnCcs5L-IMlq"
      },
      "source": [
        "#!git clone https://github.com/jadytian/ML-predict-kinase-inhibitor.git"
      ],
      "execution_count": 12,
      "outputs": []
    },
    {
      "cell_type": "code",
      "metadata": {
        "colab": {
          "base_uri": "https://localhost:8080/"
        },
        "id": "8bHmI8db7DPT",
        "outputId": "7fee8391-dd92-44a4-d537-979bda619790"
      },
      "source": [
        "%cd ML-predict-kinase-inhibitor"
      ],
      "execution_count": 13,
      "outputs": [
        {
          "output_type": "stream",
          "text": [
            "/content/gdrive/My Drive/Projects/ML-predict-kinase-inhibitor\n"
          ],
          "name": "stdout"
        }
      ]
    },
    {
      "cell_type": "code",
      "metadata": {
        "id": "S8KNrxR2cJD1"
      },
      "source": [
        ""
      ],
      "execution_count": 13,
      "outputs": []
    },
    {
      "cell_type": "markdown",
      "metadata": {
        "id": "3KAO9ojMxDyT"
      },
      "source": [
        "We will be using a python package called mordred for generating **computer molecular descriptors**."
      ]
    },
    {
      "cell_type": "code",
      "metadata": {
        "id": "vDhnv_Pr1dFs",
        "colab": {
          "base_uri": "https://localhost:8080/"
        },
        "outputId": "9a907aa3-ca28-497d-a892-4a9483fbff54"
      },
      "source": [
        "import pandas as pd\n",
        "from rdkit import Chem\n",
        "from mordred import Calculator, descriptors\n",
        "\n",
        "#Create descriptor calculator with all descriptors\n",
        "calc = Calculator(descriptors, ignore_3D=True)\n",
        "df = pd.read_csv('combined.csv')\n",
        "\n",
        "#Resample the imbalanced dataset(more details on this in Part2)\n",
        "from sklearn.utils import resample\n",
        "df_majority = df[df.Inhibitor=='No']\n",
        "df_minority = df[df.Inhibitor=='Yes']\n",
        "\n",
        "#Downsample majority class\n",
        "df_majority_downsampled = resample(df_majority, replace = False, n_samples = 203, random_state=123)\n",
        "\n",
        "#Combine the minority class with downsampled majority class\n",
        "df_downsampled = pd.concat([df_majority_downsampled, df_minority])\n",
        "\n",
        "df = df_downsampled\n",
        "x = df['SMILES'].values\n",
        "\n",
        "#Calculate molecules\n",
        "mols = [Chem.MolFromSmiles(smi) for smi in x]\n",
        "df_m = calc.pandas(mols)\n"
      ],
      "execution_count": 14,
      "outputs": [
        {
          "output_type": "stream",
          "text": [
            "  2%|▏         | 10/406 [00:05<04:46,  1.38it/s]"
          ],
          "name": "stderr"
        },
        {
          "output_type": "stream",
          "text": [
            "/usr/local/lib/python3.6/dist-packages/numpy/core/fromnumeric.py:90: RuntimeWarning: overflow encountered in reduce\n",
            "  return ufunc.reduce(obj, axis, dtype, out, **passkwargs)\n"
          ],
          "name": "stdout"
        },
        {
          "output_type": "stream",
          "text": [
            "  5%|▌         | 22/406 [00:15<11:27,  1.79s/it]"
          ],
          "name": "stderr"
        },
        {
          "output_type": "stream",
          "text": [
            "/usr/local/lib/python3.6/dist-packages/numpy/core/fromnumeric.py:90: RuntimeWarning: overflow encountered in reduce\n",
            "  return ufunc.reduce(obj, axis, dtype, out, **passkwargs)\n"
          ],
          "name": "stdout"
        },
        {
          "output_type": "stream",
          "text": [
            "100%|██████████| 406/406 [04:33<00:00,  1.48it/s]\n"
          ],
          "name": "stderr"
        }
      ]
    },
    {
      "cell_type": "code",
      "metadata": {
        "id": "LACCJ8bzdqX1"
      },
      "source": [
        "# df_m = df_m.fillna(0) "
      ],
      "execution_count": 15,
      "outputs": []
    },
    {
      "cell_type": "code",
      "metadata": {
        "id": "nrIEfxIK5ExP",
        "colab": {
          "base_uri": "https://localhost:8080/"
        },
        "outputId": "0aaf4e4d-0d14-4388-e501-4aa840f64aa6"
      },
      "source": [
        "#Diasplay the descriptor table and convert to Numpy array\n",
        "import numpy as np\n",
        "print(df_m)\n",
        "df_ms = np.asarray(df_m)\n"
      ],
      "execution_count": 21,
      "outputs": [
        {
          "output_type": "stream",
          "text": [
            "           ABC      ABCGG  nAcid  nBase  ... Zagreb1 Zagreb2 mZagreb1   mZagreb2\n",
            "0    31.697605  23.233843      0      0  ...   194.0   202.0  18.7917  10.250000\n",
            "1    18.372846  14.479004      0      0  ...   122.0   142.0  7.27778   5.500000\n",
            "2    42.135164  31.576535      2      0  ...   294.0   353.0  20.5972  11.083333\n",
            "3    13.980375  10.324630      0      2  ...    98.0   120.0  3.41667   3.611111\n",
            "4    10.744501  10.170579      0      0  ...    66.0    72.0  5.58333   3.638889\n",
            "..         ...        ...    ...    ...  ...     ...     ...      ...        ...\n",
            "401   9.289847   8.749080      0      0  ...    62.0    73.0  3.94444   2.666667\n",
            "402  26.208040  19.318438      0      1  ...   178.0   212.0  8.97222   7.194444\n",
            "403  23.148902  19.019093      0      1  ...   162.0   200.0  7.97222   6.361111\n",
            "404  10.094413   9.759293      0      0  ...    70.0    86.0  5.41667   2.833333\n",
            "405  28.749097  21.532616      0      1  ...   190.0   216.0  13.9236   8.625000\n",
            "\n",
            "[406 rows x 1613 columns]\n"
          ],
          "name": "stdout"
        }
      ]
    },
    {
      "cell_type": "markdown",
      "metadata": {
        "id": "9Z7kmn7tx1Rv"
      },
      "source": [
        "# Part 2: Machine Learning for Predicting Whether a Drug is a Kinase Inhibitor Using Molecular Structures"
      ]
    },
    {
      "cell_type": "markdown",
      "metadata": {
        "id": "ggPDFRKVuV6k"
      },
      "source": [
        "## Preliminary Information \n",
        "\n",
        "Dataset Preparation:\n",
        "*  Input dataset is constructed using Pubchem (https://pubchem.ncbi.nlm.nih.gov/)\n",
        "*  Classifications on whether a drug is a kinase inhibitor or not is done through first collecting all cids of kinase inhibitors and sorting them out from the all drugs list of cids\n",
        "*  The final dataset is consisted of three columns: cid, SMILE strings and whether or not the drug is a kinase inhibitor (labelled with Yes or No)\n",
        "\n",
        "Machine Learning:\n",
        "*  **Random Forest (RF)** Machine-Learning (ML) method was used for classification. \n"
      ]
    },
    {
      "cell_type": "markdown",
      "metadata": {
        "id": "0su4hnn2uV6m"
      },
      "source": [
        "### Here is a schematic overview of the modeling procedure"
      ]
    },
    {
      "cell_type": "code",
      "metadata": {
        "colab": {
          "base_uri": "https://localhost:8080/",
          "height": 422
        },
        "id": "XHhzZTPsuV6n",
        "outputId": "a7f27045-2d2a-4f7c-af14-0cd0f7605aad"
      },
      "source": [
        "from IPython.display import Image\n",
        "Image('KinaseInhibitorsModelling-banner.jpg')"
      ],
      "execution_count": 22,
      "outputs": [
        {
          "output_type": "execute_result",
          "data": {
            "image/jpeg": "[encoded data removed]",
            "text/plain": [
              "<IPython.core.display.Image object>"
            ]
          },
          "metadata": {
            "tags": []
          },
          "execution_count": 22
        }
      ]
    },
    {
      "cell_type": "markdown",
      "metadata": {
        "id": "_L_LN0XRuV6q"
      },
      "source": [
        "### To create drug function classifier models, we need two things:\n",
        "\n",
        "* Chemical structures and their associated class labels\n",
        "* Descriptors (Fingerprints)"
      ]
    },
    {
      "cell_type": "code",
      "metadata": {
        "id": "xJDK1_ICuV6s"
      },
      "source": [
        "## Preliminary library setup\n",
        "import os, random, time, numpy as np\n",
        "import matplotlib.pyplot as plt\n",
        "from collections import Counter\n",
        "from rdkit import Chem, DataStructs\n",
        "from rdkit import RDLogger  \n",
        "from rdkit.Chem import Draw\n",
        "from sklearn import preprocessing\n",
        "from sklearn.ensemble import RandomForestClassifier"
      ],
      "execution_count": 23,
      "outputs": []
    },
    {
      "cell_type": "markdown",
      "metadata": {
        "id": "qzg0Eb93uV6w"
      },
      "source": [
        "## Load the data \n"
      ]
    },
    {
      "cell_type": "code",
      "metadata": {
        "colab": {
          "base_uri": "https://localhost:8080/",
          "height": 252
        },
        "id": "8L4M0RZP_uEi",
        "outputId": "752dbffd-bfa9-4114-dd0c-786a1f847a36"
      },
      "source": [
        "import pandas as pd\n",
        "df  = pd.read_csv('combined.csv')\n",
        "\n",
        "print(\"Here are few first/last 5 lines of the df data\")\n",
        "df.iloc[0:6, [1,2]]"
      ],
      "execution_count": 24,
      "outputs": [
        {
          "output_type": "stream",
          "text": [
            "Here are few first/last 5 lines of the df data\n"
          ],
          "name": "stdout"
        },
        {
          "output_type": "execute_result",
          "data": {
            "text/html": [
              "<div>\n",
              "<style scoped>\n",
              "    .dataframe tbody tr th:only-of-type {\n",
              "        vertical-align: middle;\n",
              "    }\n",
              "\n",
              "    .dataframe tbody tr th {\n",
              "        vertical-align: top;\n",
              "    }\n",
              "\n",
              "    .dataframe thead th {\n",
              "        text-align: right;\n",
              "    }\n",
              "</style>\n",
              "<table border=\"1\" class=\"dataframe\">\n",
              "  <thead>\n",
              "    <tr style=\"text-align: right;\">\n",
              "      <th></th>\n",
              "      <th>SMILES</th>\n",
              "      <th>Inhibitor</th>\n",
              "    </tr>\n",
              "  </thead>\n",
              "  <tbody>\n",
              "    <tr>\n",
              "      <th>0</th>\n",
              "      <td>CC(C)C[C@@H](C(=O)N[C@@H](CC1CCNC1=O)C(O)S(=O)...</td>\n",
              "      <td>No</td>\n",
              "    </tr>\n",
              "    <tr>\n",
              "      <th>1</th>\n",
              "      <td>CCOC1=CC=C(C=C1)N=NC2=CC(=C(C=C2)/C=C/C3=C(C=C...</td>\n",
              "      <td>No</td>\n",
              "    </tr>\n",
              "    <tr>\n",
              "      <th>2</th>\n",
              "      <td>CN(C1=CC(=CC=C1)OCF)C(=NC2=C(C=CC(=C2)SC)Cl)N</td>\n",
              "      <td>No</td>\n",
              "    </tr>\n",
              "    <tr>\n",
              "      <th>3</th>\n",
              "      <td>CCN1C2=C(C=C(C=C2)S(=O)(=O)O)C(C1=CC=CC3=[N+](...</td>\n",
              "      <td>No</td>\n",
              "    </tr>\n",
              "    <tr>\n",
              "      <th>4</th>\n",
              "      <td>CC(C)C[C@@H](C(=O)N[C@@H](CCCCN)C(=O)N[C@@H](C...</td>\n",
              "      <td>No</td>\n",
              "    </tr>\n",
              "    <tr>\n",
              "      <th>5</th>\n",
              "      <td>CCCC(C(=O)CC)C(=O)SCCNC(=O)CCNC(=O)[C@@H](C(C)...</td>\n",
              "      <td>No</td>\n",
              "    </tr>\n",
              "  </tbody>\n",
              "</table>\n",
              "</div>"
            ],
            "text/plain": [
              "                                              SMILES Inhibitor\n",
              "0  CC(C)C[C@@H](C(=O)N[C@@H](CC1CCNC1=O)C(O)S(=O)...        No\n",
              "1  CCOC1=CC=C(C=C1)N=NC2=CC(=C(C=C2)/C=C/C3=C(C=C...        No\n",
              "2      CN(C1=CC(=CC=C1)OCF)C(=NC2=C(C=CC(=C2)SC)Cl)N        No\n",
              "3  CCN1C2=C(C=C(C=C2)S(=O)(=O)O)C(C1=CC=CC3=[N+](...        No\n",
              "4  CC(C)C[C@@H](C(=O)N[C@@H](CCCCN)C(=O)N[C@@H](C...        No\n",
              "5  CCCC(C(=O)CC)C(=O)SCCNC(=O)CCNC(=O)[C@@H](C(C)...        No"
            ]
          },
          "metadata": {
            "tags": []
          },
          "execution_count": 24
        }
      ]
    },
    {
      "cell_type": "markdown",
      "metadata": {
        "id": "oLXtgcomuV61"
      },
      "source": [
        "### Explore the dataset"
      ]
    },
    {
      "cell_type": "code",
      "metadata": {
        "colab": {
          "base_uri": "https://localhost:8080/"
        },
        "id": "qXW04omDuV61",
        "outputId": "8be87cb8-205b-44cc-e97e-114f97118c19"
      },
      "source": [
        "print('Dimension of the dataset:', df.shape)"
      ],
      "execution_count": 25,
      "outputs": [
        {
          "output_type": "stream",
          "text": [
            "Dimension of the dataset: (130480, 3)\n"
          ],
          "name": "stdout"
        }
      ]
    },
    {
      "cell_type": "markdown",
      "metadata": {
        "id": "7u6v_lbmuV6_"
      },
      "source": [
        "## Prepare the data for modeling\n",
        "Because this is a highly **imbalanced** dataset with a significant higher number of non-kinase inhibitors versus very few samples of kinase inhibitors, we will be utilizing method of **upsampling** minority class or **down-sampling** majority class.\n",
        "\n",
        "More information on this link:\n",
        "https://elitedatascience.com/imbalanced-classes\n",
        "\n",
        "The method I decide to go along with for this project is downsampling the majority class."
      ]
    },
    {
      "cell_type": "code",
      "metadata": {
        "colab": {
          "base_uri": "https://localhost:8080/"
        },
        "id": "wukP_LQXWU2C",
        "outputId": "50b8e625-afff-4282-b224-07e2697f2c7b"
      },
      "source": [
        "#We first explore the count of each class\n",
        "df['Inhibitor'].value_counts()"
      ],
      "execution_count": 26,
      "outputs": [
        {
          "output_type": "execute_result",
          "data": {
            "text/plain": [
              "No     130277\n",
              "Yes       203\n",
              "Name: Inhibitor, dtype: int64"
            ]
          },
          "metadata": {
            "tags": []
          },
          "execution_count": 26
        }
      ]
    },
    {
      "cell_type": "code",
      "metadata": {
        "id": "C51GVOnOXkXB"
      },
      "source": [
        "#Import module for resampling\n",
        "from sklearn.utils import resample"
      ],
      "execution_count": 28,
      "outputs": []
    },
    {
      "cell_type": "code",
      "metadata": {
        "id": "9HxScG3sW_hK"
      },
      "source": [
        "#Separate majority and minority classes\n",
        "df_majority = df[df.Inhibitor=='No']\n",
        "df_minority = df[df.Inhibitor=='Yes']\n",
        "\n",
        "#Downsample majority class\n",
        "df_majority_downsampled = resample(df_majority, replace = False, n_samples = 203, random_state=123)\n",
        "\n",
        "#Combine the minority class with downsampled majority class\n",
        "df_downsampled = pd.concat([df_majority_downsampled, df_minority])\n"
      ],
      "execution_count": 29,
      "outputs": []
    },
    {
      "cell_type": "code",
      "metadata": {
        "colab": {
          "base_uri": "https://localhost:8080/"
        },
        "id": "tU_k1PtJX0ZB",
        "outputId": "f2f3a4d8-5e6b-42b6-ebdc-61c375054378"
      },
      "source": [
        "#Updated class counts\n",
        "df_downsampled.Inhibitor.value_counts()"
      ],
      "execution_count": 32,
      "outputs": [
        {
          "output_type": "execute_result",
          "data": {
            "text/plain": [
              "Yes    203\n",
              "No     203\n",
              "Name: Inhibitor, dtype: int64"
            ]
          },
          "metadata": {
            "tags": []
          },
          "execution_count": 32
        }
      ]
    },
    {
      "cell_type": "code",
      "metadata": {
        "id": "ENkRIrHwY0GF"
      },
      "source": [
        "#Assign the updated dataset for analysis\n",
        "df = df_downsampled"
      ],
      "execution_count": 33,
      "outputs": []
    },
    {
      "cell_type": "code",
      "metadata": {
        "id": "1-kz2Dm5QYgu"
      },
      "source": [
        "#Convert the dataframe to numpy ndarray\n",
        "x = df['SMILES'].values\n",
        "mols = [Chem.MolFromSmiles(smi) for smi in x]"
      ],
      "execution_count": 38,
      "outputs": []
    },
    {
      "cell_type": "code",
      "metadata": {
        "colab": {
          "base_uri": "https://localhost:8080/"
        },
        "id": "nVuQiFVgAAB7",
        "outputId": "a591896e-3e17-45c7-8881-74a48ac75c34"
      },
      "source": [
        "#Encode inhibitor labels with value 0 and 1\n",
        "outcome = df['Inhibitor'].values\n",
        "\n",
        "le = preprocessing.LabelEncoder()\n",
        "le.fit(outcome);\n",
        "\n",
        "print('What labels are available in classes?:', list(le.classes_))\n",
        "ys_fit = le.transform(outcome)\n",
        "\n",
        "print('transformed outcome:  ', ys_fit)\n"
      ],
      "execution_count": 39,
      "outputs": [
        {
          "output_type": "stream",
          "text": [
            "What labels are available in classes?: ['No', 'Yes']\n",
            "transformed outcome:   [0 0 0 0 0 0 0 0 0 0 0 0 0 0 0 0 0 0 0 0 0 0 0 0 0 0 0 0 0 0 0 0 0 0 0 0 0\n",
            " 0 0 0 0 0 0 0 0 0 0 0 0 0 0 0 0 0 0 0 0 0 0 0 0 0 0 0 0 0 0 0 0 0 0 0 0 0\n",
            " 0 0 0 0 0 0 0 0 0 0 0 0 0 0 0 0 0 0 0 0 0 0 0 0 0 0 0 0 0 0 0 0 0 0 0 0 0\n",
            " 0 0 0 0 0 0 0 0 0 0 0 0 0 0 0 0 0 0 0 0 0 0 0 0 0 0 0 0 0 0 0 0 0 0 0 0 0\n",
            " 0 0 0 0 0 0 0 0 0 0 0 0 0 0 0 0 0 0 0 0 0 0 0 0 0 0 0 0 0 0 0 0 0 0 0 0 0\n",
            " 0 0 0 0 0 0 0 0 0 0 0 0 0 0 0 0 0 0 1 1 1 1 1 1 1 1 1 1 1 1 1 1 1 1 1 1 1\n",
            " 1 1 1 1 1 1 1 1 1 1 1 1 1 1 1 1 1 1 1 1 1 1 1 1 1 1 1 1 1 1 1 1 1 1 1 1 1\n",
            " 1 1 1 1 1 1 1 1 1 1 1 1 1 1 1 1 1 1 1 1 1 1 1 1 1 1 1 1 1 1 1 1 1 1 1 1 1\n",
            " 1 1 1 1 1 1 1 1 1 1 1 1 1 1 1 1 1 1 1 1 1 1 1 1 1 1 1 1 1 1 1 1 1 1 1 1 1\n",
            " 1 1 1 1 1 1 1 1 1 1 1 1 1 1 1 1 1 1 1 1 1 1 1 1 1 1 1 1 1 1 1 1 1 1 1 1 1\n",
            " 1 1 1 1 1 1 1 1 1 1 1 1 1 1 1 1 1 1 1 1 1 1 1 1 1 1 1 1 1 1 1 1 1 1 1 1]\n"
          ],
          "name": "stdout"
        }
      ]
    },
    {
      "cell_type": "markdown",
      "metadata": {
        "id": "jmSlLkCguV7G"
      },
      "source": [
        "The target labels are encoded as follows:\n",
        "```\n",
        "0: Not a Kinase Inhibitor (No)\n",
        "1: Kinase Inhibitor (Yes)\n",
        "```"
      ]
    },
    {
      "cell_type": "markdown",
      "metadata": {
        "id": "RamrJ3U1uV7G"
      },
      "source": [
        "## Data Analysis \n",
        "After resampling the dataset, this imbalanced dataset is balanced now, as illustrated below:"
      ]
    },
    {
      "cell_type": "code",
      "metadata": {
        "colab": {
          "base_uri": "https://localhost:8080/"
        },
        "id": "zsOTqlbXUCan",
        "outputId": "f6b9e846-c2e3-494f-9958-7d715fd89d84"
      },
      "source": [
        "bin_count = np.bincount(ys_fit)\n",
        "n_classes = len(bin_count)\n",
        "print('How many classes? ',n_classes)\n",
        "print('How many samples? ', len(ys_fit))\n",
        "\n",
        "print('How many from each class (raw numbers)? ', bin_count )\n",
        "print('How many from each class (proportions)?: ', bin_count/(sum(bin_count)))"
      ],
      "execution_count": 40,
      "outputs": [
        {
          "output_type": "stream",
          "text": [
            "How many classes?  2\n",
            "How many samples?  406\n",
            "How many from each class (raw numbers)?  [203 203]\n",
            "How many from each class (proportions)?:  [0.5 0.5]\n"
          ],
          "name": "stdout"
        }
      ]
    },
    {
      "cell_type": "markdown",
      "metadata": {
        "id": "1rdNhKUYuV7N"
      },
      "source": [
        "## Generate fingeprints: \n",
        "\n",
        "Read the following paper for details, https://www.ncbi.nlm.nih.gov/pubmed/20426451"
      ]
    },
    {
      "cell_type": "code",
      "metadata": {
        "colab": {
          "base_uri": "https://localhost:8080/"
        },
        "id": "mMi1hxs5UXDn",
        "outputId": "732dafd7-5a3d-47e4-f087-de63ec2c6588"
      },
      "source": [
        "#Generate the Fingerprints\n",
        "#Time to generate the Fingerprints: 0.9676074981689453 seconds \n",
        "\n",
        "time_start = time.time()\n",
        "\n",
        "from rdkit.Chem import AllChem\n",
        "\n",
        "fp = [AllChem.GetMorganFingerprintAsBitVect(m, 2, nBits=1024) for m in mols if m != None]\n",
        "\n",
        "#Convert RDKit explicit vectors into NUMPY array\n",
        "np_fps = np.asarray(fp)\n",
        "\n",
        "time_elapsed = time.time()-time_start\n",
        "txt = 'Time to generate the Fingerprints: {} seconds '\n",
        "print(txt.format(time_elapsed))"
      ],
      "execution_count": 41,
      "outputs": [
        {
          "output_type": "stream",
          "text": [
            "Time to generate the Fingerprints: 0.9673867225646973 seconds \n"
          ],
          "name": "stdout"
        }
      ]
    },
    {
      "cell_type": "markdown",
      "metadata": {
        "id": "c-eO3BM1uV7W"
      },
      "source": [
        "### Let us display the first 11 columns of the top 20 molecular fingerprints"
      ]
    },
    {
      "cell_type": "code",
      "metadata": {
        "colab": {
          "base_uri": "https://localhost:8080/"
        },
        "id": "SfkInk29uV7Y",
        "outputId": "510d9af8-7610-492b-8b1a-c648dbd39784"
      },
      "source": [
        "print(np_fps[0:10,0:20])\n"
      ],
      "execution_count": 52,
      "outputs": [
        {
          "output_type": "stream",
          "text": [
            "[[0 0 0 0 0 0 0 0 0 0 0 0 1 0 0 0 0 0 0 0]\n",
            " [0 0 0 0 0 0 0 0 0 0 0 0 0 0 0 1 0 0 0 0]\n",
            " [0 1 0 0 0 0 0 0 0 1 0 0 0 0 0 0 0 0 0 0]\n",
            " [0 0 0 0 1 0 0 0 0 0 0 0 0 0 0 0 0 0 0 0]\n",
            " [0 0 0 0 0 0 0 0 0 0 0 0 0 0 0 0 0 0 0 0]\n",
            " [0 1 0 0 0 0 0 0 0 0 0 0 0 0 0 0 0 0 0 0]\n",
            " [0 1 0 0 0 0 0 0 1 0 0 0 0 0 0 0 0 0 0 0]\n",
            " [0 0 0 0 0 0 1 0 0 0 0 0 0 0 0 0 0 0 0 0]\n",
            " [0 1 0 0 0 0 1 0 0 0 0 0 0 0 0 0 0 0 0 0]\n",
            " [1 1 0 0 0 0 0 0 0 0 0 0 0 0 0 0 0 0 0 0]]\n"
          ],
          "name": "stdout"
        }
      ]
    },
    {
      "cell_type": "markdown",
      "metadata": {
        "id": "R_n1lyj9uV7c"
      },
      "source": [
        "## Getting ready to do modeling \n",
        "\n",
        "First, let us split the data"
      ]
    },
    {
      "cell_type": "code",
      "metadata": {
        "id": "42WMVTXIuV7c"
      },
      "source": [
        "from sklearn.model_selection import train_test_split\n",
        "seed = 123\n",
        "\n",
        "train_X, test_X, train_y, test_y = train_test_split(np_fps, ys_fit, \n",
        "                                                    train_size=0.75,\n",
        "                                                    test_size=0.25,\n",
        "                                                    random_state=seed,\n",
        "                                                    stratify = ys_fit)\n",
        "train_y = list(train_y)\n",
        "test_y = list(test_y)"
      ],
      "execution_count": 53,
      "outputs": []
    },
    {
      "cell_type": "markdown",
      "metadata": {
        "id": "84I0ducnKU72"
      },
      "source": [
        "## Hyperparameter values (HP) and HP Optimization (HPO)\n",
        "\n",
        "For ScikitLearn implementation of RandomForest, we can adjust several HP values. "
      ]
    },
    {
      "cell_type": "code",
      "metadata": {
        "id": "LL9BG-licP6q"
      },
      "source": [
        "# import warnings\n",
        "# warnings.filterwarnings(action=\"ignore\", message=\"^internal gelsd\")\n",
        "\n",
        "# import os\n",
        "# import random \n",
        "# import time\n",
        "# import numpy as np\n",
        "# import matplotlib.pyplot as plt\n",
        "# import pandas as pd\n",
        "# from rdkit import Chem, DataStructs\n",
        "# from rdkit.Chem import Draw\n",
        "# from rdkit.Chem import AllChem\n",
        "# from sklearn import preprocessing\n",
        "# from sklearn import metrics\n",
        "# from sklearn.ensemble import RandomForestClassifier\n",
        "# from sklearn.manifold import TSNE\n",
        "# from sklearn.ensemble import RandomForestClassifier\n",
        "# from sklearn.model_selection import train_test_split\n",
        "# from sklearn.metrics import balanced_accuracy_score\n",
        "# from sklearn.model_selection import GridSearchCV\n",
        "# from sklearn.metrics import multilabel_confusion_matrix\n",
        "# from sklearn.model_selection import GridSearchCV\n",
        "# # Use the grid to search for best hyperparameters\n",
        "# param_grid = {'n_estimators': [50, 250, 1000, 4000, 8000, 16000],\n",
        "# 'max_features': ['sqrt','log2'],\n",
        "# 'min_samples_leaf': [1,10,100, 1000],\n",
        "# 'class_weight': [None, 'balanced','balanced_subsample']\n",
        "# }\n",
        "\n",
        "# # First create the base model to tune\n",
        "# rf = RandomForestClassifier()\n",
        "\n",
        "# # Instantiate the grid search model\n",
        "# grid_search = GridSearchCV(estimator = rf, param_grid = param_grid, \n",
        "#                           cv = 5, n_jobs = -1, verbose = 1)\n",
        "\n",
        "# # Fit the random search model\n",
        "# grid_search.fit(train_X, train_y)\n",
        "\n",
        "\n",
        "# Fitting 5 folds for each of 144 candidates, totalling 720 fits\n",
        "# [Parallel(n_jobs=-1)]: Using backend LokyBackend with 2 concurrent workers.\n",
        "# [Parallel(n_jobs=-1)]: Done  46 tasks      | elapsed:  4.0min\n",
        "# [Parallel(n_jobs=-1)]: Done 196 tasks      | elapsed: 19.0min\n",
        "# [Parallel(n_jobs=-1)]: Done 446 tasks      | elapsed: 44.9min\n",
        "# [Parallel(n_jobs=-1)]: Done 720 out of 720 | elapsed: 78.2min finished\n",
        "# grid_search_best_params\n",
        "# {'class_weight': None, 'max_features': 'sqrt', 'min_samples_leaf': 1, 'n_estimators': 250}\n",
        "# grid_search_best_score\n",
        "# 0.8650819672131147\n",
        "# best_grid\n",
        "# RandomForestClassifier(bootstrap=True, ccp_alpha=0.0, class_weight=None,\n",
        "#                        criterion='gini', max_depth=None, max_features='sqrt',\n",
        "#                        max_leaf_nodes=None, max_samples=None,\n",
        "#                        min_impurity_decrease=0.0, min_impurity_split=None,\n",
        "#                        min_samples_leaf=1, min_samples_split=2,\n",
        "#                        min_weight_fraction_leaf=0.0, n_estimators=250,\n",
        "#                        n_jobs=None, oob_score=False, random_state=None,\n",
        "#                        verbose=0, warm_start=False)\n",
        "# Balanced set Accuracy Score: 0.86"
      ],
      "execution_count": null,
      "outputs": []
    },
    {
      "cell_type": "markdown",
      "metadata": {
        "id": "yTI99mdFK3Un"
      },
      "source": [
        "A HPO RandomizedSearchCV run was carried out to find the following best combination."
      ]
    },
    {
      "cell_type": "markdown",
      "metadata": {
        "id": "kwsq8ezFLMgu"
      },
      "source": [
        "| Parameter | Values   |\n",
        "|----------|----------|\n",
        "|  n_estimators  | 250 |\n",
        "| max_features   | sqrt | \n",
        "| min_samples_leaf| 1 | \n",
        "| class_weight |  None| "
      ]
    },
    {
      "cell_type": "markdown",
      "metadata": {
        "id": "LVeOqhxYuV7n"
      },
      "source": [
        "## Supervised Learning using Random Forest\n",
        "We will use Random-Forest based classifier for classification.\n"
      ]
    },
    {
      "cell_type": "code",
      "metadata": {
        "id": "J5DM0bxCuV7v"
      },
      "source": [
        "#Random forest classification based on the best combination\n",
        "seed = 1123\n",
        "rf = RandomForestClassifier(class_weight=None, max_features='sqrt', min_samples_leaf=1, n_estimators=250, random_state=seed)"
      ],
      "execution_count": 54,
      "outputs": []
    },
    {
      "cell_type": "code",
      "metadata": {
        "colab": {
          "base_uri": "https://localhost:8080/"
        },
        "id": "s3lXNORMuV7z",
        "outputId": "80b8f727-9a67-4b1b-b66a-eed2262cfcdb"
      },
      "source": [
        "from pprint import pprint\n",
        "#View the parameters of the random forest\n",
        "print('Parameters will be used for this model:\\n')\n",
        "pprint(rf.get_params())"
      ],
      "execution_count": 55,
      "outputs": [
        {
          "output_type": "stream",
          "text": [
            "Parameters will be used for this model:\n",
            "\n",
            "{'bootstrap': True,\n",
            " 'ccp_alpha': 0.0,\n",
            " 'class_weight': None,\n",
            " 'criterion': 'gini',\n",
            " 'max_depth': None,\n",
            " 'max_features': 'sqrt',\n",
            " 'max_leaf_nodes': None,\n",
            " 'max_samples': None,\n",
            " 'min_impurity_decrease': 0.0,\n",
            " 'min_impurity_split': None,\n",
            " 'min_samples_leaf': 1,\n",
            " 'min_samples_split': 2,\n",
            " 'min_weight_fraction_leaf': 0.0,\n",
            " 'n_estimators': 250,\n",
            " 'n_jobs': None,\n",
            " 'oob_score': False,\n",
            " 'random_state': 1123,\n",
            " 'verbose': 0,\n",
            " 'warm_start': False}\n"
          ],
          "name": "stdout"
        }
      ]
    },
    {
      "cell_type": "code",
      "metadata": {
        "id": "K723HwPpuV78"
      },
      "source": [
        "#Train the random forest\n",
        "rf.fit(train_X, train_y);"
      ],
      "execution_count": 72,
      "outputs": []
    },
    {
      "cell_type": "code",
      "metadata": {
        "colab": {
          "base_uri": "https://localhost:8080/"
        },
        "id": "5cTo_qJjuV8B",
        "outputId": "2daa64f3-2976-46cb-bac5-7a482eba71b6"
      },
      "source": [
        "from sklearn import metrics\n",
        "from sklearn.metrics import balanced_accuracy_score\n",
        "\n",
        "test_X= np.float32(test_X)\n",
        "test_X=np.nan_to_num(test_X, nan=-9999, posinf=33333333, neginf=33333333)\n",
        "pred_y = rf.predict(test_X)\n",
        "acc = metrics.accuracy_score(test_y, pred_y)\n",
        "print(\"Test set accuracy: {:.2f}\".format(acc))\n",
        "\n",
        "balanced_acc_score = balanced_accuracy_score(test_y, pred_y)\n",
        "print(\"Balanced set Accuracy Score: {:.2f}\".format(balanced_acc_score))\n"
      ],
      "execution_count": 58,
      "outputs": [
        {
          "output_type": "stream",
          "text": [
            "Test set accuracy: 0.86\n",
            "Balanced set Accuracy Score: 0.86\n"
          ],
          "name": "stdout"
        }
      ]
    },
    {
      "cell_type": "code",
      "metadata": {
        "colab": {
          "base_uri": "https://localhost:8080/",
          "height": 355
        },
        "id": "mjwHvj7vuV8G",
        "outputId": "4202e335-6046-485b-b98f-4d78c7d05a2f"
      },
      "source": [
        "#Plot non-normalized confusion matrix\n",
        "#Get a random forest classifiert with 100 trees\n",
        "np.set_printoptions(precision=3)\n",
        "from sklearn.metrics import plot_confusion_matrix\n",
        "\n",
        "titles_options = [(\"Normalized confusion matrix\", 'true')]\n",
        "\n",
        "for title, normalize in titles_options:\n",
        "    disp = plot_confusion_matrix(rf, test_X, test_y,\n",
        "                                 display_labels=le.classes_,\n",
        "                                 cmap=plt.cm.Blues,\n",
        "                                 normalize=normalize)\n",
        "    disp.ax_.set_title(title)\n",
        "    plt.xticks(rotation=45)\n",
        "    \n",
        "    print(title)\n",
        "    print(disp.confusion_matrix)\n",
        "\n",
        "plt.show()"
      ],
      "execution_count": 59,
      "outputs": [
        {
          "output_type": "stream",
          "text": [
            "Normalized confusion matrix\n",
            "[[0.922 0.078]\n",
            " [0.196 0.804]]\n"
          ],
          "name": "stdout"
        },
        {
          "output_type": "display_data",
          "data": {
            "image/png": "[encoded data removed]",
            "text/plain": [
              "<Figure size 432x288 with 2 Axes>"
            ]
          },
          "metadata": {
            "tags": [],
            "needs_background": "light"
          }
        }
      ]
    },
    {
      "cell_type": "markdown",
      "metadata": {
        "id": "ePxuirQ1uV8K"
      },
      "source": [
        "## Inference\n",
        "```\n",
        "0: Not a Kinase Inhibitor\n",
        "1: A Kinase Inhibitor\n",
        "```"
      ]
    },
    {
      "cell_type": "code",
      "metadata": {
        "colab": {
          "base_uri": "https://localhost:8080/"
        },
        "id": "E6fEX-y_uV8L",
        "outputId": "97e8f980-a2fb-4361-b4ef-e43e1ee99443"
      },
      "source": [
        "print(rf.predict(test_X[11:16]))\n",
        "print(test_y[11:16])\n"
      ],
      "execution_count": 60,
      "outputs": [
        {
          "output_type": "stream",
          "text": [
            "[0 1 0 0 1]\n",
            "[0, 1, 0, 0, 1]\n"
          ],
          "name": "stdout"
        }
      ]
    },
    {
      "cell_type": "markdown",
      "metadata": {
        "id": "t8yPDWOsvbh2"
      },
      "source": [
        "# Part 3: Different Approaches for Predicting Whether a Drug is a Kinase Inhibitor\n"
      ]
    },
    {
      "cell_type": "markdown",
      "metadata": {
        "id": "nU9Z7ilJvCyU"
      },
      "source": [
        "## Random Forest Using Computer Molecular Descriptors\n",
        "\n"
      ]
    },
    {
      "cell_type": "code",
      "metadata": {
        "id": "4rIQWcdLvCyU"
      },
      "source": [
        "from sklearn.model_selection import train_test_split\n",
        "seed = 123\n",
        "\n",
        "train_X, test_X, train_y, test_y = train_test_split(df_m, ys_fit, \n",
        "                                                    train_size=0.75,\n",
        "                                                    test_size=0.25,\n",
        "                                                    random_state=seed,\n",
        "                                                    stratify = ys_fit)\n",
        "train_y = list(train_y)\n",
        "test_y = list(test_y)\n",
        "\n",
        "#remove any infinity/NaN inputs in train_X\n",
        "train_X= np.float32(train_X)\n",
        "train_X= np.nan_to_num(train_X, nan=-9999, posinf=33333333, neginf=33333333)\n",
        "rf.fit(train_X, train_y);"
      ],
      "execution_count": 64,
      "outputs": []
    },
    {
      "cell_type": "code",
      "metadata": {
        "colab": {
          "base_uri": "https://localhost:8080/"
        },
        "id": "O9YV_CTMNkKa",
        "outputId": "1f454206-6b4f-4f02-dcd1-5847807ad431"
      },
      "source": [
        "from sklearn import metrics\n",
        "from sklearn.metrics import balanced_accuracy_score\n",
        "\n",
        "test_X= np.float32(test_X)\n",
        "test_X=np.nan_to_num(test_X, nan=-9999, posinf=33333333, neginf=33333333)\n",
        "pred_y = rf.predict(test_X)\n",
        "acc = metrics.accuracy_score(test_y, pred_y)\n",
        "print(\"Test set accuracy: {:.2f}\".format(acc))\n",
        "\n",
        "balanced_acc_score = balanced_accuracy_score(test_y, pred_y)\n",
        "print(\"Balanced set Accuracy Score: {:.2f}\".format(balanced_acc_score))\n"
      ],
      "execution_count": 65,
      "outputs": [
        {
          "output_type": "stream",
          "text": [
            "Test set accuracy: 0.90\n",
            "Balanced set Accuracy Score: 0.90\n"
          ],
          "name": "stdout"
        }
      ]
    },
    {
      "cell_type": "code",
      "metadata": {
        "colab": {
          "base_uri": "https://localhost:8080/",
          "height": 355
        },
        "id": "CE3HIoocNkKe",
        "outputId": "aa8c7a4f-1959-4cc7-a98e-1db409153d95"
      },
      "source": [
        "#Plot non-normalized confusion matrix\n",
        "#Get a random forest classifiert with 100 trees\n",
        "np.set_printoptions(precision=3)\n",
        "from sklearn.metrics import plot_confusion_matrix\n",
        "\n",
        "titles_options = [(\"Normalized confusion matrix\", 'true')]\n",
        "\n",
        "for title, normalize in titles_options:\n",
        "    disp = plot_confusion_matrix(rf, test_X, test_y,\n",
        "                                 display_labels=le.classes_,\n",
        "                                 cmap=plt.cm.Blues,\n",
        "                                 normalize=normalize)\n",
        "    disp.ax_.set_title(title)\n",
        "    plt.xticks(rotation=45)\n",
        "    \n",
        "    print(title)\n",
        "    print(disp.confusion_matrix)\n",
        "\n",
        "plt.show()"
      ],
      "execution_count": 66,
      "outputs": [
        {
          "output_type": "stream",
          "text": [
            "Normalized confusion matrix\n",
            "[[0.98  0.02 ]\n",
            " [0.176 0.824]]\n"
          ],
          "name": "stdout"
        },
        {
          "output_type": "display_data",
          "data": {
            "image/png": "[encoded data removed]",
            "text/plain": [
              "<Figure size 432x288 with 2 Axes>"
            ]
          },
          "metadata": {
            "tags": [],
            "needs_background": "light"
          }
        }
      ]
    },
    {
      "cell_type": "markdown",
      "metadata": {
        "id": "IgUeCsUAE6ZF"
      },
      "source": [
        "## Supervised Learning using KFold Model for Splitting Data\n",
        "\n",
        "We will utilize KFold model to split the data into 3 sets: training, testing and validation for molecular fingerprint dataset.\n",
        "\n"
      ]
    },
    {
      "cell_type": "code",
      "metadata": {
        "colab": {
          "base_uri": "https://localhost:8080/",
          "height": 406
        },
        "id": "J1ql8c9OOVyC",
        "outputId": "16a83257-e353-4cd5-f4e5-4f1150c66a2f"
      },
      "source": [
        "#np_fps\n",
        "from sklearn.model_selection import KFold\n",
        "import numpy as np\n",
        "from sklearn import metrics\n",
        "from sklearn.metrics import balanced_accuracy_score\n",
        "from sklearn.model_selection import train_test_split\n",
        "seed = 123\n",
        "\n",
        "train_X, test_X, train_y, test_y = train_test_split(np_fps, ys_fit, \n",
        "                                                    train_size=0.75,\n",
        "                                                    test_size=0.25,\n",
        "                                                    random_state=seed,\n",
        "                                                    stratify = ys_fit)\n",
        "train_y = list(train_y)\n",
        "test_y = list(test_y)\n",
        "\n",
        "trainX = []\n",
        "trainy = []\n",
        "score = 0\n",
        "kf5 = KFold(n_splits=5, shuffle=False)\n",
        "for train_index, test_index in kf5.split(train_y):\n",
        "  seed = 1123\n",
        "  rf = RandomForestClassifier(n_estimators=50, random_state=seed)\n",
        "  rf.fit(train_X[train_index], np.take(train_y,train_index));\n",
        "  pred_y = rf.predict(train_X[test_index])\n",
        "  acc = metrics.accuracy_score(np.take(train_y,test_index), pred_y)\n",
        "  if acc> score:\n",
        "    trainX = train_X[train_index]\n",
        "    trainy = np.take(train_y,train_index)\n",
        "    score = acc\n",
        "\n",
        "print(score)\n",
        "seed = 1123\n",
        "rf = RandomForestClassifier(n_estimators=50, random_state=seed)\n",
        "rf.fit(trainX, trainy);\n",
        "\n",
        "pred_y = rf.predict(test_X)\n",
        "acc = metrics.accuracy_score(test_y, pred_y)\n",
        "print(\"Test set accuracy: {:.2f}\".format(acc))\n",
        "balanced_acc_score = balanced_accuracy_score(test_y, pred_y)\n",
        "print(\"Balanced set Accuracy Score: {:.2f}\".format(balanced_acc_score))\n",
        "\n",
        "np.set_printoptions(precision=3)\n",
        "from sklearn.metrics import plot_confusion_matrix\n",
        "\n",
        "titles_options = [(\"Normalized confusion matrix\", 'true')]\n",
        "\n",
        "for title, normalize in titles_options:\n",
        "    disp = plot_confusion_matrix(rf, test_X, test_y,\n",
        "                                 display_labels=le.classes_,\n",
        "                                 cmap=plt.cm.Blues,\n",
        "                                 normalize=normalize)\n",
        "    disp.ax_.set_title(title)\n",
        "    plt.xticks(rotation=45)\n",
        "    \n",
        "    print(title)\n",
        "    print(disp.confusion_matrix)\n",
        "\n",
        "plt.show()\n"
      ],
      "execution_count": 73,
      "outputs": [
        {
          "output_type": "stream",
          "text": [
            "0.9508196721311475\n",
            "Test set accuracy: 0.83\n",
            "Balanced set Accuracy Score: 0.83\n",
            "Normalized confusion matrix\n",
            "[[0.882 0.118]\n",
            " [0.216 0.784]]\n"
          ],
          "name": "stdout"
        },
        {
          "output_type": "display_data",
          "data": {
            "image/png": "[encoded data removed]",
            "text/plain": [
              "<Figure size 432x288 with 2 Axes>"
            ]
          },
          "metadata": {
            "tags": [],
            "needs_background": "light"
          }
        }
      ]
    },
    {
      "cell_type": "markdown",
      "metadata": {
        "id": "Z35u4VllOkFo"
      },
      "source": [
        "We will utilize KFold model to split the data into 3 sets: training, testing and validation for computer molecular descriptors dataset."
      ]
    },
    {
      "cell_type": "code",
      "metadata": {
        "id": "U0uxiFLtEnEA",
        "colab": {
          "base_uri": "https://localhost:8080/",
          "height": 406
        },
        "outputId": "1131d75c-cb1a-4308-a4c3-6cef429dc9f5"
      },
      "source": [
        "from sklearn.model_selection import KFold\n",
        "import numpy as np\n",
        "from sklearn import metrics\n",
        "from sklearn.metrics import balanced_accuracy_score\n",
        "from sklearn.model_selection import train_test_split\n",
        "seed = 123\n",
        "\n",
        "train_X, test_X, train_y, test_y = train_test_split(df_m, ys_fit, \n",
        "                                                    train_size=0.75,\n",
        "                                                    test_size=0.25,\n",
        "                                                    random_state=seed,\n",
        "                                                    stratify = ys_fit)\n",
        "train_y = list(train_y)\n",
        "test_y = list(test_y)\n",
        "\n",
        "#remove any infinity/NaN inputs in train_X\n",
        "train_X= np.float32(train_X)\n",
        "train_X= np.nan_to_num(train_X, nan=-9999, posinf=33333333, neginf=33333333)\n",
        "test_X= np.float32(test_X)\n",
        "test_X= np.nan_to_num(test_X, nan=-9999, posinf=33333333, neginf=33333333)\n",
        "\n",
        "trainX = []\n",
        "trainy = []\n",
        "score = 0\n",
        "kf5 = KFold(n_splits=5, shuffle=False)\n",
        "for train_index, test_index in kf5.split(train_y):\n",
        "  seed = 1123\n",
        "  rf = RandomForestClassifier(n_estimators=50, random_state=seed)\n",
        "  rf.fit(train_X[train_index], np.take(train_y,train_index));\n",
        "  pred_y = rf.predict(train_X[test_index])\n",
        "  acc = metrics.accuracy_score(np.take(train_y,test_index), pred_y)\n",
        "  if acc> score:\n",
        "    trainX = train_X[train_index]\n",
        "    trainy = np.take(train_y,train_index)\n",
        "    score = acc\n",
        "\n",
        "print(score)\n",
        "seed = 1123\n",
        "rf = RandomForestClassifier(n_estimators=50, random_state=seed)\n",
        "rf.fit(trainX, trainy);\n",
        "\n",
        "pred_y = rf.predict(test_X)\n",
        "acc = metrics.accuracy_score(test_y, pred_y)\n",
        "print(\"Test set accuracy: {:.2f}\".format(acc))\n",
        "balanced_acc_score = balanced_accuracy_score(test_y, pred_y)\n",
        "print(\"Balanced set Accuracy Score: {:.2f}\".format(balanced_acc_score))\n",
        "\n",
        "np.set_printoptions(precision=3)\n",
        "from sklearn.metrics import plot_confusion_matrix\n",
        "\n",
        "titles_options = [(\"Normalized confusion matrix\", 'true')]\n",
        "\n",
        "for title, normalize in titles_options:\n",
        "    disp = plot_confusion_matrix(rf, test_X, test_y,\n",
        "                                 display_labels=le.classes_,\n",
        "                                 cmap=plt.cm.Blues,\n",
        "                                 normalize=normalize)\n",
        "    disp.ax_.set_title(title)\n",
        "    plt.xticks(rotation=45)\n",
        "    \n",
        "    print(title)\n",
        "    print(disp.confusion_matrix)\n",
        "\n",
        "plt.show()"
      ],
      "execution_count": 74,
      "outputs": [
        {
          "output_type": "stream",
          "text": [
            "0.9180327868852459\n",
            "Test set accuracy: 0.88\n",
            "Balanced set Accuracy Score: 0.88\n",
            "Normalized confusion matrix\n",
            "[[0.922 0.078]\n",
            " [0.157 0.843]]\n"
          ],
          "name": "stdout"
        },
        {
          "output_type": "display_data",
          "data": {
            "image/png": "[encoded data removed]",
            "text/plain": [
              "<Figure size 432x288 with 2 Axes>"
            ]
          },
          "metadata": {
            "tags": [],
            "needs_background": "light"
          }
        }
      ]
    },
    {
      "cell_type": "markdown",
      "metadata": {
        "id": "uldsXDEsGhGX"
      },
      "source": [
        "With 5-Fold data splitting model, we are able to get a better prediction for kinase inhibitor data."
      ]
    }
  ]
}